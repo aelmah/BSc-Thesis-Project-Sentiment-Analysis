{
 "cells": [
  {
   "cell_type": "code",
   "execution_count": 1,
   "metadata": {},
   "outputs": [
    {
     "name": "stdout",
     "output_type": "stream",
     "text": [
      "Defaulting to user installation because normal site-packages is not writeable\n",
      "Collecting textblob\n",
      "  Using cached textblob-0.18.0.post0-py3-none-any.whl.metadata (4.5 kB)\n",
      "Requirement already satisfied: nltk>=3.8 in c:\\users\\pc\\appdata\\roaming\\python\\python311\\site-packages (from textblob) (3.8.1)\n",
      "Requirement already satisfied: click in c:\\users\\pc\\appdata\\roaming\\python\\python311\\site-packages (from nltk>=3.8->textblob) (8.1.7)\n",
      "Requirement already satisfied: joblib in c:\\users\\pc\\appdata\\roaming\\python\\python311\\site-packages (from nltk>=3.8->textblob) (1.3.2)\n",
      "Requirement already satisfied: regex>=2021.8.3 in c:\\users\\pc\\appdata\\roaming\\python\\python311\\site-packages (from nltk>=3.8->textblob) (2024.4.16)\n",
      "Requirement already satisfied: tqdm in c:\\users\\pc\\appdata\\roaming\\python\\python311\\site-packages (from nltk>=3.8->textblob) (4.66.2)\n",
      "Requirement already satisfied: colorama in c:\\users\\pc\\appdata\\roaming\\python\\python311\\site-packages (from click->nltk>=3.8->textblob) (0.4.6)\n",
      "Using cached textblob-0.18.0.post0-py3-none-any.whl (626 kB)\n",
      "Installing collected packages: textblob\n",
      "Successfully installed textblob-0.18.0.post0\n",
      "Note: you may need to restart the kernel to use updated packages.\n"
     ]
    }
   ],
   "source": [
    "pip install textblob\n"
   ]
  },
  {
   "cell_type": "code",
   "execution_count": 2,
   "metadata": {},
   "outputs": [],
   "source": [
    "from textblob import TextBlob\n",
    "import re\n",
    "\n",
    "def preprocess(text):\n",
    "    # Enlever les URLs\n",
    "    text = re.sub(r'http\\S+|www\\S+|https\\S+', '', text, flags=re.MULTILINE)\n",
    "    # Enlever les caractères spéciaux et les chiffres\n",
    "    text = re.sub(r'\\@\\w+|\\#', '', text)\n",
    "    text = re.sub(r'[^A-Za-z\\s]', '', text)\n",
    "    return text\n",
    "\n",
    "\n",
    "\n"
   ]
  },
  {
   "cell_type": "code",
   "execution_count": 3,
   "metadata": {},
   "outputs": [],
   "source": [
    "def get_sentiment_score(text):\n",
    "    # Créer un objet TextBlob\n",
    "    blob = TextBlob(text)\n",
    "    # Calculer le score de sentiment\n",
    "    return blob.sentiment.polarity"
   ]
  },
  {
   "cell_type": "code",
   "execution_count": 4,
   "metadata": {},
   "outputs": [],
   "source": [
    "\n",
    "def interpret_textblob_score(score):\n",
    "    if score > 0:\n",
    "        return 'Positive'\n",
    "    elif score < 0:\n",
    "        return 'Negative'\n",
    "    else:\n",
    "        return 'Neutral'\n"
   ]
  },
  {
   "cell_type": "code",
   "execution_count": 5,
   "metadata": {},
   "outputs": [
    {
     "name": "stdout",
     "output_type": "stream",
     "text": [
      "Tweet: I love this product! It's awesome and works great. #happy\n",
      "Cleaned Tweet: I love this product Its awesome and works great happy\n",
      "Sentiment Score: 0.7749999999999999\n",
      "Sentiment: Positive\n",
      "---\n",
      "Tweet: I hate this product! It's terrible and doesn't work at all. #angry\n",
      "Cleaned Tweet: I hate this product Its terrible and doesnt work at all angry\n",
      "Sentiment Score: -0.7666666666666666\n",
      "Sentiment: Negative\n",
      "---\n",
      "Tweet: This product is okay, nothing special. #meh\n",
      "Cleaned Tweet: This product is okay nothing special meh\n",
      "Sentiment Score: 0.4285714285714286\n",
      "Sentiment: Positive\n",
      "---\n"
     ]
    }
   ],
   "source": [
    "# Exemple de tweets\n",
    "tweets = [\n",
    "    \"I love this product! It's awesome and works great. #happy\",\n",
    "    \"I hate this product! It's terrible and doesn't work at all. #angry\",\n",
    "    \"This product is okay, nothing special. #meh\"\n",
    "]\n",
    "\n",
    "# Analyser les sentiments des tweets\n",
    "for tweet in tweets:\n",
    "    cleaned_tweet = preprocess(tweet)\n",
    "    score = get_sentiment_score(cleaned_tweet)\n",
    "    sentiment = interpret_textblob_score(score)\n",
    "    print(f'Tweet: {tweet}')\n",
    "    print(f'Cleaned Tweet: {cleaned_tweet}')\n",
    "    print(f'Sentiment Score: {score}')\n",
    "    print(f'Sentiment: {sentiment}')\n",
    "    print('---')"
   ]
  }
 ],
 "metadata": {
  "kernelspec": {
   "display_name": "Python 3",
   "language": "python",
   "name": "python3"
  },
  "language_info": {
   "codemirror_mode": {
    "name": "ipython",
    "version": 3
   },
   "file_extension": ".py",
   "mimetype": "text/x-python",
   "name": "python",
   "nbconvert_exporter": "python",
   "pygments_lexer": "ipython3",
   "version": "3.11.5"
  }
 },
 "nbformat": 4,
 "nbformat_minor": 2
}
