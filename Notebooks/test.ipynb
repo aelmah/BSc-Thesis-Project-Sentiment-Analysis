{
 "cells": [
  {
   "cell_type": "code",
   "execution_count": 1,
   "metadata": {},
   "outputs": [],
   "source": [
    "from sklearn.feature_extraction.text import TfidfVectorizer\n",
    "from sklearn.naive_bayes import ComplementNB\n",
    "from sklearn.model_selection import train_test_split\n",
    "from sklearn.metrics import accuracy_score\n",
    "# Données d'entrée (critiques) et étiquettes (émotions)\n",
    "reviews = [\n",
    "    \"J'ai adoré ce film, c'était incroyable !\",\n",
    "    \"Ce film était correct, rien de spécial.\",\n",
    "    \"Je n'ai pas du tout aimé ce film, c'était nul.\",\n",
    "    \"Ce film était génial, je le recommande vivement.\",\n",
    "    \"J'ai trouvé ce film assez ennuyeux.\",\n",
    "    \"Ce film était une déception totale.\"\n",
    "]\n",
    "\n",
    "emotions = ['Positif', 'Neutre', 'Négatif', 'Positif', 'Neutre', 'Négatif']"
   ]
  },
  {
   "cell_type": "code",
   "execution_count": 2,
   "metadata": {},
   "outputs": [],
   "source": [
    "#Vectorisation des données textuelles\n",
    "vectorizer = TfidfVectorizer()\n",
    "X = vectorizer.fit_transform(reviews)"
   ]
  },
  {
   "cell_type": "code",
   "execution_count": 4,
   "metadata": {},
   "outputs": [
    {
     "data": {
      "text/html": [
       "<style>#sk-container-id-1 {color: black;}#sk-container-id-1 pre{padding: 0;}#sk-container-id-1 div.sk-toggleable {background-color: white;}#sk-container-id-1 label.sk-toggleable__label {cursor: pointer;display: block;width: 100%;margin-bottom: 0;padding: 0.3em;box-sizing: border-box;text-align: center;}#sk-container-id-1 label.sk-toggleable__label-arrow:before {content: \"▸\";float: left;margin-right: 0.25em;color: #696969;}#sk-container-id-1 label.sk-toggleable__label-arrow:hover:before {color: black;}#sk-container-id-1 div.sk-estimator:hover label.sk-toggleable__label-arrow:before {color: black;}#sk-container-id-1 div.sk-toggleable__content {max-height: 0;max-width: 0;overflow: hidden;text-align: left;background-color: #f0f8ff;}#sk-container-id-1 div.sk-toggleable__content pre {margin: 0.2em;color: black;border-radius: 0.25em;background-color: #f0f8ff;}#sk-container-id-1 input.sk-toggleable__control:checked~div.sk-toggleable__content {max-height: 200px;max-width: 100%;overflow: auto;}#sk-container-id-1 input.sk-toggleable__control:checked~label.sk-toggleable__label-arrow:before {content: \"▾\";}#sk-container-id-1 div.sk-estimator input.sk-toggleable__control:checked~label.sk-toggleable__label {background-color: #d4ebff;}#sk-container-id-1 div.sk-label input.sk-toggleable__control:checked~label.sk-toggleable__label {background-color: #d4ebff;}#sk-container-id-1 input.sk-hidden--visually {border: 0;clip: rect(1px 1px 1px 1px);clip: rect(1px, 1px, 1px, 1px);height: 1px;margin: -1px;overflow: hidden;padding: 0;position: absolute;width: 1px;}#sk-container-id-1 div.sk-estimator {font-family: monospace;background-color: #f0f8ff;border: 1px dotted black;border-radius: 0.25em;box-sizing: border-box;margin-bottom: 0.5em;}#sk-container-id-1 div.sk-estimator:hover {background-color: #d4ebff;}#sk-container-id-1 div.sk-parallel-item::after {content: \"\";width: 100%;border-bottom: 1px solid gray;flex-grow: 1;}#sk-container-id-1 div.sk-label:hover label.sk-toggleable__label {background-color: #d4ebff;}#sk-container-id-1 div.sk-serial::before {content: \"\";position: absolute;border-left: 1px solid gray;box-sizing: border-box;top: 0;bottom: 0;left: 50%;z-index: 0;}#sk-container-id-1 div.sk-serial {display: flex;flex-direction: column;align-items: center;background-color: white;padding-right: 0.2em;padding-left: 0.2em;position: relative;}#sk-container-id-1 div.sk-item {position: relative;z-index: 1;}#sk-container-id-1 div.sk-parallel {display: flex;align-items: stretch;justify-content: center;background-color: white;position: relative;}#sk-container-id-1 div.sk-item::before, #sk-container-id-1 div.sk-parallel-item::before {content: \"\";position: absolute;border-left: 1px solid gray;box-sizing: border-box;top: 0;bottom: 0;left: 50%;z-index: -1;}#sk-container-id-1 div.sk-parallel-item {display: flex;flex-direction: column;z-index: 1;position: relative;background-color: white;}#sk-container-id-1 div.sk-parallel-item:first-child::after {align-self: flex-end;width: 50%;}#sk-container-id-1 div.sk-parallel-item:last-child::after {align-self: flex-start;width: 50%;}#sk-container-id-1 div.sk-parallel-item:only-child::after {width: 0;}#sk-container-id-1 div.sk-dashed-wrapped {border: 1px dashed gray;margin: 0 0.4em 0.5em 0.4em;box-sizing: border-box;padding-bottom: 0.4em;background-color: white;}#sk-container-id-1 div.sk-label label {font-family: monospace;font-weight: bold;display: inline-block;line-height: 1.2em;}#sk-container-id-1 div.sk-label-container {text-align: center;}#sk-container-id-1 div.sk-container {/* jupyter's `normalize.less` sets `[hidden] { display: none; }` but bootstrap.min.css set `[hidden] { display: none !important; }` so we also need the `!important` here to be able to override the default hidden behavior on the sphinx rendered scikit-learn.org. See: https://github.com/scikit-learn/scikit-learn/issues/21755 */display: inline-block !important;position: relative;}#sk-container-id-1 div.sk-text-repr-fallback {display: none;}</style><div id=\"sk-container-id-1\" class=\"sk-top-container\"><div class=\"sk-text-repr-fallback\"><pre>TfidfVectorizer()</pre><b>In a Jupyter environment, please rerun this cell to show the HTML representation or trust the notebook. <br />On GitHub, the HTML representation is unable to render, please try loading this page with nbviewer.org.</b></div><div class=\"sk-container\" hidden><div class=\"sk-item\"><div class=\"sk-estimator sk-toggleable\"><input class=\"sk-toggleable__control sk-hidden--visually\" id=\"sk-estimator-id-1\" type=\"checkbox\" checked><label for=\"sk-estimator-id-1\" class=\"sk-toggleable__label sk-toggleable__label-arrow\">TfidfVectorizer</label><div class=\"sk-toggleable__content\"><pre>TfidfVectorizer()</pre></div></div></div></div></div>"
      ],
      "text/plain": [
       "TfidfVectorizer()"
      ]
     },
     "execution_count": 4,
     "metadata": {},
     "output_type": "execute_result"
    }
   ],
   "source": [
    "vectorizer"
   ]
  },
  {
   "cell_type": "code",
   "execution_count": 5,
   "metadata": {},
   "outputs": [
    {
     "name": "stdout",
     "output_type": "stream",
     "text": [
      "Accuracy: 0.5\n"
     ]
    }
   ],
   "source": [
    "# Séparation des données en ensembles d'entraînement et de test\n",
    "X_train, X_test, y_train, y_test = train_test_split(X, emotions, test_size=0.2, random_state=42)\n",
    "\n",
    "# Entraînement du modèle ComplementNB\n",
    "clf = ComplementNB()\n",
    "clf.fit(X_train, y_train)\n",
    "\n",
    "# Prédictions sur l'ensemble de test\n",
    "y_pred = clf.predict(X_test)\n",
    "\n",
    "# Calcul de l'accuracy\n",
    "accuracy = accuracy_score(y_test, y_pred)\n",
    "print(\"Accuracy:\", accuracy)"
   ]
  },
  {
   "cell_type": "code",
   "execution_count": 6,
   "metadata": {},
   "outputs": [
    {
     "name": "stdout",
     "output_type": "stream",
     "text": [
      "Matrice TF-IDF :\n",
      " [[0.56470429 0.39095179 0.         0.         0.25067186 0.\n",
      "  0.         0.         0.         0.         0.25067186 0.\n",
      "  0.56470429 0.         0.         0.         0.         0.\n",
      "  0.         0.         0.         0.         0.         0.\n",
      "  0.         0.2893131 ]\n",
      " [0.         0.         0.         0.         0.20570808 0.46341154\n",
      "  0.46341154 0.         0.         0.         0.20570808 0.\n",
      "  0.         0.         0.         0.         0.         0.\n",
      "  0.46341154 0.46341154 0.         0.         0.         0.\n",
      "  0.         0.23741812]\n",
      " [0.         0.26532797 0.3832489  0.         0.17012393 0.\n",
      "  0.         0.3832489  0.         0.         0.17012393 0.\n",
      "  0.         0.31426958 0.         0.3832489  0.3832489  0.\n",
      "  0.         0.         0.         0.3832489  0.         0.\n",
      "  0.         0.19634865]\n",
      " [0.         0.         0.         0.         0.19229227 0.\n",
      "  0.         0.         0.         0.         0.19229227 0.43318891\n",
      "  0.         0.3552211  0.43318891 0.         0.         0.43318891\n",
      "  0.         0.         0.         0.         0.         0.\n",
      "  0.43318891 0.22193426]\n",
      " [0.         0.35176816 0.         0.50810609 0.22554796 0.\n",
      "  0.         0.         0.         0.50810609 0.22554796 0.\n",
      "  0.         0.         0.         0.         0.         0.\n",
      "  0.         0.         0.         0.         0.50810609 0.\n",
      "  0.         0.        ]\n",
      " [0.         0.         0.         0.         0.23213864 0.\n",
      "  0.         0.         0.52295334 0.         0.23213864 0.\n",
      "  0.         0.         0.         0.         0.         0.\n",
      "  0.         0.         0.52295334 0.         0.         0.52295334\n",
      "  0.         0.26792297]]\n",
      "Noms des caractéristiques (mots) :\n",
      " ['adoré' 'ai' 'aimé' 'assez' 'ce' 'correct' 'de' 'du' 'déception'\n",
      " 'ennuyeux' 'film' 'génial' 'incroyable' 'je' 'le' 'nul' 'pas'\n",
      " 'recommande' 'rien' 'spécial' 'totale' 'tout' 'trouvé' 'une' 'vivement'\n",
      " 'était']\n"
     ]
    }
   ],
   "source": [
    "from sklearn.feature_extraction.text import TfidfVectorizer\n",
    "\n",
    "# Définition du vecteur TF-IDF\n",
    "vectorizer = TfidfVectorizer()\n",
    "\n",
    "# Apprentissage du vocabulaire et transformation des critiques en une matrice TF-IDF\n",
    "X = vectorizer.fit_transform(reviews)\n",
    "\n",
    "# Affichage de la matrice TF-IDF résultante\n",
    "print(\"Matrice TF-IDF :\\n\", X.toarray())\n",
    "\n",
    "# Affichage des noms des caractéristiques (mots)\n",
    "print(\"Noms des caractéristiques (mots) :\\n\", vectorizer.get_feature_names_out())\n"
   ]
  },
  {
   "cell_type": "code",
   "execution_count": 2,
   "metadata": {},
   "outputs": [
    {
     "name": "stdout",
     "output_type": "stream",
     "text": [
      "Original Text: I don't like this movie at all, but it's not so bad.\n",
      "Processed Text: I do n't like this movie at all , but it 's NOT_so bad .\n"
     ]
    },
    {
     "name": "stderr",
     "output_type": "stream",
     "text": [
      "[nltk_data] Downloading package punkt to\n",
      "[nltk_data]     C:\\Users\\pc\\AppData\\Roaming\\nltk_data...\n",
      "[nltk_data]   Package punkt is already up-to-date!\n"
     ]
    }
   ],
   "source": [
    "import nltk\n",
    "from nltk.tokenize import word_tokenize\n",
    "nltk.download('punkt')\n",
    "\n",
    "# Example function to handle negations in text\n",
    "def process_negations(text):\n",
    "    # Tokenize the words in the text\n",
    "    tokens = word_tokenize(text)\n",
    "    # List of negation words\n",
    "    negation_words = set([\"not\", \"no\", \"never\", \"none\"])\n",
    "    # Initialize the list of processed words\n",
    "    processed_tokens = []\n",
    "    # Initialize the negation flag\n",
    "    negation_flag = False\n",
    "\n",
    "    # Iterate through the tokens in the text\n",
    "    for token in tokens:\n",
    "        # If the token is a negation\n",
    "        if token.lower() in negation_words:\n",
    "            # Activate the negation flag\n",
    "            negation_flag = True\n",
    "            # Do not add the negation itself to the list of processed words\n",
    "            continue\n",
    "        # If the negation flag is active and the token is not punctuation\n",
    "        if negation_flag and token not in [\"'\", '\"', \".\", \",\", \"!\", \"?\", \":\", \";\"]:\n",
    "            # Add a prefix to indicate negation\n",
    "            processed_tokens.append(\"NOT_\" + token)\n",
    "            # Reset the negation flag\n",
    "            negation_flag = False\n",
    "        else:\n",
    "            # Add the token as is to the list of processed words\n",
    "            processed_tokens.append(token)\n",
    "\n",
    "    # Return the processed text\n",
    "    return \" \".join(processed_tokens)\n",
    "\n",
    "# Example usage on a text\n",
    "text = \"I don't like this movie at all, but it's not so bad.\"\n",
    "processed_text = process_negations(text)\n",
    "print(\"Original Text:\", text)\n",
    "print(\"Processed Text:\", processed_text)\n"
   ]
  },
  {
   "cell_type": "code",
   "execution_count": 3,
   "metadata": {},
   "outputs": [
    {
     "name": "stderr",
     "output_type": "stream",
     "text": [
      "[nltk_data] Downloading package punkt to\n",
      "[nltk_data]     C:\\Users\\pc\\AppData\\Roaming\\nltk_data...\n",
      "[nltk_data]   Package punkt is already up-to-date!\n",
      "[nltk_data] Downloading package averaged_perceptron_tagger to\n",
      "[nltk_data]     C:\\Users\\pc\\AppData\\Roaming\\nltk_data...\n",
      "[nltk_data]   Unzipping taggers\\averaged_perceptron_tagger.zip.\n"
     ]
    },
    {
     "name": "stdout",
     "output_type": "stream",
     "text": [
      "Tagged Text: [('I', 'PRP'), ('love', 'VBP'), ('natural', 'JJ'), ('language', 'NN'), ('processing', 'NN'), ('.', '.')]\n"
     ]
    }
   ],
   "source": [
    "import nltk\n",
    "from nltk.tokenize import word_tokenize\n",
    "nltk.download('punkt')\n",
    "nltk.download('averaged_perceptron_tagger')\n",
    "\n",
    "# Example of POS tagging function\n",
    "def pos_tagging(text):\n",
    "    # Tokenize the words in the text\n",
    "    tokens = word_tokenize(text)\n",
    "    # Perform POS tagging\n",
    "    tagged_tokens = nltk.pos_tag(tokens)\n",
    "    return tagged_tokens\n",
    "\n",
    "# Example usage on a text\n",
    "text = \"I love natural language processing.\"\n",
    "tagged_text = pos_tagging(text)\n",
    "print(\"Tagged Text:\", tagged_text)\n"
   ]
  }
 ],
 "metadata": {
  "kernelspec": {
   "display_name": "Python 3",
   "language": "python",
   "name": "python3"
  },
  "language_info": {
   "codemirror_mode": {
    "name": "ipython",
    "version": 3
   },
   "file_extension": ".py",
   "mimetype": "text/x-python",
   "name": "python",
   "nbconvert_exporter": "python",
   "pygments_lexer": "ipython3",
   "version": "3.11.5"
  }
 },
 "nbformat": 4,
 "nbformat_minor": 2
}
