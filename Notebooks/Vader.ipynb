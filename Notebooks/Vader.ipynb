{
 "cells": [
  {
   "cell_type": "code",
   "execution_count": 1,
   "metadata": {},
   "outputs": [
    {
     "name": "stderr",
     "output_type": "stream",
     "text": [
      "[nltk_data] Downloading package vader_lexicon to\n",
      "[nltk_data]     C:\\Users\\pc\\AppData\\Roaming\\nltk_data...\n"
     ]
    }
   ],
   "source": [
    "import nltk\n",
    "from nltk.sentiment.vader import SentimentIntensityAnalyzer\n",
    "\n",
    "# Télécharger le lexique VADER\n",
    "nltk.download('vader_lexicon')\n",
    "\n",
    "# Initialiser l'analyseur de sentiments VADER\n",
    "sia = SentimentIntensityAnalyzer()\n"
   ]
  },
  {
   "cell_type": "code",
   "execution_count": 2,
   "metadata": {},
   "outputs": [
    {
     "name": "stdout",
     "output_type": "stream",
     "text": [
      "I love this product Its awesome and works great happy\n"
     ]
    },
    {
     "name": "stderr",
     "output_type": "stream",
     "text": [
      "[nltk_data] Downloading package punkt to\n",
      "[nltk_data]     C:\\Users\\pc\\AppData\\Roaming\\nltk_data...\n",
      "[nltk_data]   Package punkt is already up-to-date!\n"
     ]
    }
   ],
   "source": [
    "import re\n",
    "from nltk.tokenize import word_tokenize\n",
    "\n",
    "nltk.download('punkt')\n",
    "\n",
    "def preprocess(text):\n",
    "    # Enlever les URLs\n",
    "    text = re.sub(r'http\\S+|www\\S+|https\\S+', '', text, flags=re.MULTILINE)\n",
    "    # Enlever les caractères spéciaux et les chiffres\n",
    "    text = re.sub(r'\\@\\w+|\\#', '', text)\n",
    "    text = re.sub(r'[^A-Za-z\\s]', '', text)\n",
    "    return text\n",
    "\n",
    "# Exemple de tweet\n",
    "tweet = \"I love this product! It's awesome and works great. #happy\"\n",
    "cleaned_tweet = preprocess(tweet)\n",
    "print(cleaned_tweet)\n"
   ]
  },
  {
   "cell_type": "code",
   "execution_count": 4,
   "metadata": {},
   "outputs": [],
   "source": [
    "def interpret_score(score):\n",
    "    if score['compound'] >= 0.05:\n",
    "        return 'Positive'\n",
    "    elif score['compound'] <= -0.05:\n",
    "        return 'Negative'\n",
    "    else:\n",
    "        return 'Neutral'\n",
    "\n"
   ]
  },
  {
   "cell_type": "code",
   "execution_count": 5,
   "metadata": {},
   "outputs": [
    {
     "name": "stdout",
     "output_type": "stream",
     "text": [
      "Tweet: I love this product! It's awesome and works great. #happy\n",
      "Cleaned Tweet: I love this product Its awesome and works great happy\n",
      "Sentiment Score: {'neg': 0.0, 'neu': 0.237, 'pos': 0.763, 'compound': 0.9524}\n",
      "Sentiment: Positive\n"
     ]
    }
   ],
   "source": [
    "# Exemple de tweet\n",
    "tweet = \"I love this product! It's awesome and works great. #happy\"\n",
    "cleaned_tweet = preprocess(tweet)\n",
    "score = sia.polarity_scores(cleaned_tweet)\n",
    "sentiment = interpret_score(score)\n",
    "\n",
    "print(f'Tweet: {tweet}')\n",
    "print(f'Cleaned Tweet: {cleaned_tweet}')\n",
    "print(f'Sentiment Score: {score}')\n",
    "print(f'Sentiment: {sentiment}')"
   ]
  }
 ],
 "metadata": {
  "kernelspec": {
   "display_name": "Python 3",
   "language": "python",
   "name": "python3"
  },
  "language_info": {
   "codemirror_mode": {
    "name": "ipython",
    "version": 3
   },
   "file_extension": ".py",
   "mimetype": "text/x-python",
   "name": "python",
   "nbconvert_exporter": "python",
   "pygments_lexer": "ipython3",
   "version": "3.11.5"
  }
 },
 "nbformat": 4,
 "nbformat_minor": 2
}
